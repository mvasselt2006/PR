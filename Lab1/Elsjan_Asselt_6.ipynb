{
 "cells": [
  {
   "cell_type": "markdown",
   "id": "59a4d511",
   "metadata": {
    "id": "59a4d511"
   },
   "source": [
    "# <p style=\"text-align:center\"> <span style=\"color:blue\">[WMCS011-05] Pattern Recognition (for CS) 2024-2025 </span></p>\n",
    "\n",
    "## <p style=\"text-align:center\"> 1st practical: Iris recognition \\& Image matching using SIFT</p>"
   ]
  },
  {
   "cell_type": "markdown",
   "id": "dade6595",
   "metadata": {
    "id": "dade6595"
   },
   "source": [
    "### $$ \\text{Group 6} $$\n",
    "### $$ \\text{Marthe Elsjan}  \\quad \\& \\quad \\text{Marloes van Asselt}  $$"
   ]
  },
  {
   "cell_type": "markdown",
   "id": "e3d22527",
   "metadata": {
    "id": "e3d22527"
   },
   "source": [
    "## **Information and instructions**\n",
    "*   <span style=\"color:red\">**DEADLINE**</span>  Tuesday 3 December 2024 **before** 23:59PM. Hand in this file *containing your code and answers added* through Brightspace.\n",
    "*   This is a group assignment (should be done in pairs).\n",
    "*  Insert a Markdown cell (where needed) and add the formulas you used to answer a question, as well as a short description of how you came up with your solution.\n",
    "*   Some exercises ask you to find a specific value or expression or ask you for an interpretation. Insert a Markdown cell and provide your answers briefly.\n",
    "* Make sure to include all the necessary print statements and remove the extra ones that were only used for testing your implementation.\n",
    "*   Please ensure that all your figures are properly labeled with title, axis labels, and legend if you plot multiple curves in one graph.\n",
    "*   Structure your code using comments and separate code cells where necessary, and be sure to indicate which part of your code belongs to which question.\n",
    "*   To test your code, we will run all your code cells from scratch - so make sure all results can be reproduced!\n",
    "* For any questions, you can contact us at [patternrecognition.cs.rug@gmail.com](patternrecognition.cs.rug@gmail.com)."
   ]
  },
  {
   "cell_type": "markdown",
   "id": "8ce09c52",
   "metadata": {
    "id": "8ce09c52"
   },
   "source": [
    "## Table of Contents\n",
    "* [Exercise 1 - Person authentication by binary iris pattern (50pt)](#chapter1)\n",
    "    * [Part 1 - Distribution of authentics and imposters](#section_1_1)\n",
    "    * [Part 2 - Person authentication](#section_1_2)\n",
    "* [Exercise 2 - Image matching using SIFT (50 pt)](#chapter2)\n",
    "* [Contributions](#chapter3)"
   ]
  },
  {
   "cell_type": "code",
   "execution_count": 1,
   "id": "927afd94",
   "metadata": {
    "id": "927afd94"
   },
   "outputs": [],
   "source": [
    "# Import libraries\n",
    "import numpy as np\n",
    "from matplotlib.pyplot import figure, show\n",
    "import matplotlib.pyplot as plt\n",
    "import pandas as pd\n",
    "from pathlib import Path\n",
    "from numpy.random import randint,choice\n",
    "import scipy.io as sio\n",
    "from scipy.stats import norm"
   ]
  },
  {
   "cell_type": "markdown",
   "id": "cd7e8030",
   "metadata": {
    "id": "cd7e8030"
   },
   "source": [
    "# <span style=\"color:blue\">Exercise 1 - Person authentication by binary iris pattern (50pt)  <a class=\"anchor\" id=\"chapter1\"></a></span>\n",
    "\n",
    "\n",
    "On Brightspace, you will find the file **lab1-data_Irisrecognition.zip**, which contains the iris codes of different persons. The file named $\\textit{person01.mat}$ to $ \\textit{person20.mat}$ contains a two-dimensional binary array of 20 rows, in which each row is a 30-dimensional binary iris code extracted from an iris image of a person. If you take a closer look at the rows of one such array, you will notice that two rows can differ in only a few positions (bits); If you compare two rows that come from two different files $person[i]$ and $ person[j]$, you will notice that two such iris codes differ in about 15 positions."
   ]
  },
  {
   "cell_type": "markdown",
   "id": "6141883e",
   "metadata": {
    "id": "6141883e"
   },
   "source": [
    "## Part 1 - Distribution of authentics and imposters (20pt) <a class=\"anchor\" id=\"section_1_1\"></a></span>\n"
   ]
  },
  {
   "cell_type": "markdown",
   "id": "13fad0bf",
   "metadata": {
    "id": "13fad0bf"
   },
   "source": [
    "Compute two sets S and D of 10000 normalized Hamming Distance (HD) as follows:\n",
    "\n",
    "<ol>\n",
    "<li> <b> For set S: </b> Choose randomly one person and randomly two iris codes (rows) from that person. Compute the normalized HD of the iris codes from these two rows. Repeat this process 10000 times to obtain 10000 such normalized HD values. </li>\n",
    "<br>\n",
    "\n",
    "<li> <b>For set D: </b> Choose randomly two different persons and randomly one row from each of these two persons. Compute the normalized HD of these two iris codes from these two different persons. Repeat this process 10000 times to obtain 10000 such normalized HD values. </li>\n",
    "\n",
    "</ol>"
   ]
  },
  {
   "cell_type": "markdown",
   "id": "4cd68806",
   "metadata": {
    "id": "4cd68806"
   },
   "source": [
    "<span style=\"color:blue\"> **(10 pt) (A)** </span> **Plot the histograms of Set S and D in one figure with different colors. Make sure to use bins of the same size for the two histograms and to use an appropriate number of bins.**\n",
    "\n",
    "<hr>"
   ]
  },
  {
   "cell_type": "code",
   "execution_count": 2,
   "id": "fHtUEvQKiNqd",
   "metadata": {
    "colab": {
     "base_uri": "https://localhost:8080/"
    },
    "id": "fHtUEvQKiNqd",
    "outputId": "a4b3104d-beaf-4071-945f-e2225acfb440"
   },
   "outputs": [
    {
     "name": "stdout",
     "output_type": "stream",
     "text": [
      "dict_keys(['person01', 'person02', 'person03', 'person04', 'person05', 'person06', 'person07', 'person08', 'person09', 'person10', 'person11', 'person12', 'person13', 'person14', 'person15', 'person16', 'person17', 'person18', 'person19', 'person20'])\n"
     ]
    }
   ],
   "source": [
    "#Get list of filepaths for persons\n",
    "file_paths= sorted(list(Path('lab1-data_Irisrecognition').glob(\"person*\")))\n",
    "\n",
    "#Store names\n",
    "names=[file.stem for file in file_paths]\n",
    "\n",
    "#Open all files\n",
    "dict_files={}  #Store values in a dictonary\n",
    "for file in file_paths:\n",
    "  name= file.stem #name in dict will be \"personXX\"\n",
    "  mat_contents = sio.loadmat(file)\n",
    "  dict_files[name]= mat_contents['iriscode'] #Only store iris code\n",
    "\n",
    "print(dict_files.keys())"
   ]
  },
  {
   "cell_type": "code",
   "execution_count": 3,
   "id": "HO-QkvlgioGz",
   "metadata": {
    "id": "HO-QkvlgioGz"
   },
   "outputs": [],
   "source": [
    "def HD_norm(a1,a2):\n",
    "  \"\"\"Get the normalised Hamming distance between two iris codes (a1 & a2)\"\"\"\n",
    "  size= len(a1) #Get size of code to normalise\n",
    "  HD= (a1 ^ a2).sum()/size #Calculate normalised HD\n",
    "  return HD\n"
   ]
  },
  {
   "cell_type": "code",
   "execution_count": 4,
   "id": "c6cb76e1",
   "metadata": {
    "id": "c6cb76e1"
   },
   "outputs": [],
   "source": [
    "# Compute Set S...\n",
    "set_S=[]\n",
    "\n",
    "#get 10000 random integers\n",
    "random_persons= randint(0,20,10000)\n",
    "\n",
    "for i in random_persons:\n",
    "  name= names[i]\n",
    "  iris_code= dict_files[name]\n",
    "  #Generate two unique rows using indexing and the sample function\n",
    "  indices= np.arange(0,iris_code.shape[0],1)\n",
    "  rows= choice(indices,2,replace=False)\n",
    "  #Append normalised HD\n",
    "  set_S.append(HD_norm(iris_code[rows[0],:],iris_code[rows[1],:]))"
   ]
  },
  {
   "cell_type": "code",
   "execution_count": null,
   "id": "996b939f",
   "metadata": {
    "id": "996b939f"
   },
   "outputs": [],
   "source": [
    "# Compute set D...\n",
    "set_D=[]\n",
    "\n",
    "ints=[]\n",
    "#get pairs of unique integers\n",
    "for x in range(10000):\n",
    "  indices= np.arange(0,20,1)\n",
    "  rows= choice(indices,2,replace=False)\n",
    "  ints.append(rows)\n",
    "\n",
    "for a1,a2 in ints:\n",
    "  name1= names[a1]\n",
    "  name2= names[a2]\n",
    "  iris_code1= dict_files[name1]\n",
    "  iris_code2= dict_files[name2]\n",
    "\n",
    "  #Get integer to chose one of the iris codes of the person\n",
    "  random_row= randint(0,iris_code1.shape[0],2)\n",
    "  set_D.append(HD_norm(iris_code1[random_row[0],:],iris_code2[random_row[1],:]))\n"
   ]
  },
  {
   "cell_type": "code",
   "execution_count": 6,
   "id": "6d12c75d",
   "metadata": {
    "colab": {
     "base_uri": "https://localhost:8080/",
     "height": 472
    },
    "id": "6d12c75d",
    "outputId": "3370b46c-9ae1-40e3-821d-426d04347613"
   },
   "outputs": [
    {
     "data": {
      "image/png": "[encoded data removed]",
      "text/plain": [
       "<Figure size 640x480 with 1 Axes>"
      ]
     },
     "metadata": {},
     "output_type": "display_data"
    }
   ],
   "source": [
    "# Plot histograms of Set S and D...\n",
    "bins=np.linspace(0,1,31)\n",
    "fig = figure()\n",
    "ax = fig.subplots()\n",
    "ax.hist(set_S, bins=bins, alpha=0.5,color='b', label='Set S')\n",
    "ax.hist(set_D, bins=bins, alpha=0.5,color='r', label='Set D')\n",
    "ax.set_xlabel('Normalized Hamming Distance')\n",
    "ax.set_ylabel('Frequency')\n",
    "ax.set_title('Histogram of Set S and D')\n",
    "ax.legend()\n",
    "show()\n"
   ]
  },
  {
   "cell_type": "markdown",
   "id": "b2e62448",
   "metadata": {},
   "source": [
    "We see a clear difference between the curves. Set S has a much narrower distribution and is centered at a lower hamming distance. Set D has a wider distribution that is centered around a hamming distance of ~0.5"
   ]
  },
  {
   "cell_type": "markdown",
   "id": "a74cdc54",
   "metadata": {
    "id": "a74cdc54"
   },
   "source": [
    "<span style=\"color:blue\">  **(5 pt) (B)** </span> **Compute the mean and the variance of the set S and D and specify their values.**\n",
    "\n",
    "<hr>"
   ]
  },
  {
   "cell_type": "code",
   "execution_count": 7,
   "id": "46887817",
   "metadata": {
    "colab": {
     "base_uri": "https://localhost:8080/"
    },
    "id": "46887817",
    "outputId": "d6ab5144-d0d7-4ebd-fd5e-ed2680a7b532"
   },
   "outputs": [
    {
     "name": "stdout",
     "output_type": "stream",
     "text": [
      "Set S had a mean of 0.085 and sigma of 0.002\n",
      "Set D had a mean of 0.491 and sigma of 0.008\n"
     ]
    }
   ],
   "source": [
    "# Compute mean and variance...\n",
    "\n",
    "mu_setS = np.mean(set_S)\n",
    "mu_setD = np.mean(set_D)\n",
    "var_setS = np.var(set_S)\n",
    "var_setD = np.var(set_D)\n",
    "\n",
    "# print(mu_setS, mu_setD, var_setS, var_setD)\n",
    "print(f\"Set S had a mean of {mu_setS:.3f} and sigma of {var_setS:.3f}\")\n",
    "print(f\"Set D had a mean of {mu_setD:.3f} and sigma of {var_setD:.3f}\")"
   ]
  },
  {
   "cell_type": "markdown",
   "id": "ed10042b",
   "metadata": {
    "id": "ed10042b"
   },
   "source": [
    "<span style=\"color:blue\">  **(5 pt) (C)** </span> **Draw the normal distributions (Gaussian functions), that correspond to the means and variances calculated above, to the histograms of Set S and D. Find an appropriate way to scale the normal distribution curves so that they fit well the histograms.**\n",
    "\n",
    "<hr>"
   ]
  },
  {
   "cell_type": "markdown",
   "id": "ghAjSAuUDgdL",
   "metadata": {
    "id": "ghAjSAuUDgdL"
   },
   "source": [
    "$f(x) = \\frac{1}{\\sqrt{2\\pi \\sigma^2}}e^{-\\frac{(x-\\mu)^2 }{ 2\\sigma^2}}$\n",
    "\n",
    "where $var = \\sigma^2$\n"
   ]
  },
  {
   "cell_type": "code",
   "execution_count": 8,
   "id": "e06d0adb",
   "metadata": {
    "colab": {
     "base_uri": "https://localhost:8080/",
     "height": 472
    },
    "id": "e06d0adb",
    "outputId": "73be5438-d9eb-4b70-a761-b3d4ad72b15c"
   },
   "outputs": [
    {
     "data": {
      "image/png": "[encoded data removed]",
      "text/plain": [
       "<Figure size 640x480 with 1 Axes>"
      ]
     },
     "metadata": {},
     "output_type": "display_data"
    }
   ],
   "source": [
    "# Plot the distributions...\n",
    "\n",
    "def gauss(x,mu,var):\n",
    "    return (1/np.sqrt(2*np.pi*var))*np.exp(-((x-mu)**2)/(2*var))\n",
    "\n",
    "xrange = np.linspace(0, 1, 100)\n",
    "\n",
    "fig = plt.figure()\n",
    "\n",
    "plt.plot(xrange, gauss(xrange, mu=mu_setS, var=var_setS),c='b', label='set S fitted gaussian')\n",
    "plt.plot(xrange, gauss(xrange, mu=mu_setD, var=var_setD),c='r', label='set D fitted gaussian')\n",
    "\n",
    "plt.hist(set_S, bins=31, range=(0,1), label='set S',alpha=0.5,color='b', density=True)\n",
    "plt.hist(set_D, bins=31, range=(0,1), label='set D',alpha=0.5,color='r', density=True)\n",
    "\n",
    "plt.title('Histogram of Set S and D')\n",
    "plt.ylabel('Normalised Frequency')\n",
    "plt.xlabel('Normalized Hamming Distance')\n",
    "\n",
    "plt.legend()\n",
    "plt.show()\n"
   ]
  },
  {
   "cell_type": "markdown",
   "id": "9ff36bfb",
   "metadata": {
    "id": "9ff36bfb"
   },
   "source": [
    "## Part 2 - Person authentication (30pt) <a class=\"anchor\" id=\"section_1_2\"></a></span>\n"
   ]
  },
  {
   "cell_type": "markdown",
   "id": "e41f01d6",
   "metadata": {
    "id": "e41f01d6"
   },
   "source": [
    "The distribution associated with the set S is the class-conditional probability density function that we measure a given HD value for two iris codes of the same person. The distribution associated with the set D is the class-conditional probability density function that we measure a given HD value for two iris codes of two different persons.\n",
    "\n",
    "Our Null-hypothesis $\\textit{H0}$ is that two iris patterns are different. We choose a value\n",
    "for the decision criterion $\\textit{d}$ and compare the HD of two iris patterns to d. If $ \\textit{HD > d}$, we consider this as confirmation of our assumption that the two iris codes are different; If $\\textit{HD < d}$, we consider our assumption that the two iris codes are different is not confirmed, i.e., implicitly we accept that they come from the same person."
   ]
  },
  {
   "cell_type": "markdown",
   "id": "28fe7985",
   "metadata": {
    "id": "28fe7985"
   },
   "source": [
    "<span style=\"color:blue\">  **(5 pt) (A)** </span> **Estimate the value of the decision criterion d for which the probability of accepting an imposter is 0.0005. This situation will occur when the HD between the iris codes of two different persons is smaller than the decision criterion d. You can use the python function $scipy.stats.norm.ppf$ to find such decision criterion.**\n",
    "\n",
    "<hr>"
   ]
  },
  {
   "cell_type": "code",
   "execution_count": 9,
   "id": "43c257df",
   "metadata": {
    "colab": {
     "base_uri": "https://localhost:8080/"
    },
    "id": "43c257df",
    "outputId": "6065af87-a30b-423d-9420-53b1b342407a"
   },
   "outputs": [
    {
     "name": "stdout",
     "output_type": "stream",
     "text": [
      "Decision criterion for P(False Positive)<=0.0005 is 0.1940\n"
     ]
    }
   ],
   "source": [
    "# Estimate the decision criterion d...\n",
    "\n",
    "d = norm.ppf(0.0005, loc=mu_setD, scale=np.sqrt(var_setD))\n",
    "\n",
    "print(f\"Decision criterion for P(False Positive)<=0.0005 is {d:.4f}\")"
   ]
  },
  {
   "cell_type": "markdown",
   "id": "b1dd9092",
   "metadata": {
    "id": "b1dd9092"
   },
   "source": [
    "<span style=\"color:blue\">  **(5 pt) (B)** </span> **For the value of the decision criterion calculated above, determine the probability of rejecting an authentic person. For this purpose, use a normal distribution to model Set S and find the value of the integral in the tail of this distribution for values HD > d. You can use the python function $scipy.stats.norm.cdf$ to compute such a probability.**\n",
    "\n",
    "<hr>"
   ]
  },
  {
   "cell_type": "markdown",
   "id": "-WABD9R6V787",
   "metadata": {
    "id": "-WABD9R6V787"
   },
   "source": [
    "The Cumulative Distribution Function"
   ]
  },
  {
   "cell_type": "code",
   "execution_count": 10,
   "id": "5251c582",
   "metadata": {
    "colab": {
     "base_uri": "https://localhost:8080/"
    },
    "id": "5251c582",
    "outputId": "1f0c0e97-b31b-47a5-ca4d-255d9643d46b"
   },
   "outputs": [
    {
     "name": "stdout",
     "output_type": "stream",
     "text": [
      "for d=0.1940 gives P(False Negative)=0.0030\n"
     ]
    }
   ],
   "source": [
    "# Determine the probability of...\n",
    "\n",
    "RA = 1 - norm.cdf(d, loc=mu_setS, scale=np.sqrt(var_setS))\n",
    "\n",
    "print(f\"for d={d:.4f} gives P(False Negative)={RA:.4f}\")"
   ]
  },
  {
   "cell_type": "markdown",
   "id": "5ae240a8",
   "metadata": {
    "id": "5ae240a8"
   },
   "source": [
    "<span style=\"color:blue\">  **(15 pt) (C)** </span> **Consider the iris code given in the file $\\textit{testperson.mat}$. This file contains an iris code with some missing bits. These missing bits have the value 2 instead of 0 or 1. To which of the 20 persons whose iris codes are stored in files $person01.mat$ to $person20.mat$ does this iris code most likely belong to?**\n",
    "\n",
    "<hr>"
   ]
  },
  {
   "cell_type": "code",
   "execution_count": 11,
   "id": "4c549a4a",
   "metadata": {
    "id": "4c549a4a"
   },
   "outputs": [],
   "source": [
    "#Load iris code\n",
    "file_path=Path(\"lab1-data_Irisrecognition/testperson.mat\")\n",
    "mat_contents = sio.loadmat(file_path)\n",
    "testperson_code= mat_contents['iriscode']\n",
    "\n",
    "#Create mask\n",
    "test_mask = np.zeros(np.shape(testperson_code))\n",
    "#Check where mask is needed\n",
    "inx= np.where((testperson_code==2))[1]\n",
    "#Change mask =1 for found indices\n",
    "test_mask[0,inx]=1\n",
    "masked_testcode= np.ma.masked_array(testperson_code,mask=test_mask)\n",
    "\n",
    "#Create list to store HD\n",
    "HD_comp=np.zeros([20,20])\n",
    "# HD_med=np.zeros(20)\n",
    "\n",
    "for i,name in enumerate(names):\n",
    "    iris_code= dict_files[name]\n",
    "    for j in range(20):\n",
    "        #Apply mask\n",
    "        masked_person= np.ma.masked_array(iris_code[j,:],mask=test_mask)\n",
    "        HD= HD_norm(masked_person,masked_testcode)\n",
    "        HD_comp[i,j]=HD\n",
    "    # HD_med[i]=np.median(HD_comp[i,:])\n",
    "    # print(np.std(HD_comp[i,:]))\n",
    "\n",
    "        \n",
    "    "
   ]
  },
  {
   "cell_type": "code",
   "execution_count": 12,
   "id": "bbbba562",
   "metadata": {},
   "outputs": [
    {
     "data": {
      "text/plain": [
       "<Axes: title={'center': 'Histogram of Set S and D'}, xlabel='Normalized Hamming Distance', ylabel='Frequency'>"
      ]
     },
     "execution_count": 12,
     "metadata": {},
     "output_type": "execute_result"
    },
    {
     "data": {
      "text/plain": [
       "<Figure size 640x480 with 0 Axes>"
      ]
     },
     "metadata": {},
     "output_type": "display_data"
    }
   ],
   "source": [
    "fig=figure()\n",
    "ax"
   ]
  },
  {
   "cell_type": "code",
   "execution_count": null,
   "id": "3b386784",
   "metadata": {},
   "outputs": [],
   "source": []
  },
  {
   "cell_type": "markdown",
   "id": "46d8b8be",
   "metadata": {
    "id": "46d8b8be"
   },
   "source": [
    "<span style=\"color:blue\"> **(5 pt) (D)** </span> **What is the significance level of your decision? $Hint:$ Excluding the bits with a value of 2, denote by HDt the normalized Hamming distance between the iris code of the test person and the iris code of the person that you identified in the data set. The significance level which corresponds to HDt is defined as the probability that the comparison of the iris code of the test person with the iris code of a different person will result in a HD such that HD ≤ HDt, i.e., the concerned significance level is equal to the integral of the tail of the distribution for HD ≤ HDt. To compute its value, make use of the theoretical expression for the parameters of the normal distribution of the normalized iris code HD for the given number of available (i.e., non-missing) bits.**\n",
    "\n",
    "\n",
    "<hr>"
   ]
  },
  {
   "cell_type": "code",
   "execution_count": null,
   "id": "2e7d49f1",
   "metadata": {
    "id": "2e7d49f1"
   },
   "outputs": [],
   "source": [
    "\n",
    "\n"
   ]
  },
  {
   "cell_type": "markdown",
   "id": "c4424bf7",
   "metadata": {
    "id": "c4424bf7"
   },
   "source": [
    "<hr>"
   ]
  },
  {
   "cell_type": "markdown",
   "id": "9e2eb844",
   "metadata": {
    "id": "9e2eb844"
   },
   "source": [
    "# <span style=\"color:blue\">Exercise 2 - Image matching using SIFT (50pt)  <a class=\"anchor\" id=\"chapter2\"></a></span>"
   ]
  },
  {
   "cell_type": "markdown",
   "id": "d1f2dfbc",
   "metadata": {
    "id": "d1f2dfbc"
   },
   "source": [
    "You are given two images named $a.jpg$ and $b.jpg$ that contain the same scene taken from different views. Use SIFT algorithm to identify key points in both the images and perform image matching based on the obtained descriptors."
   ]
  },
  {
   "cell_type": "markdown",
   "id": "c90d0e80",
   "metadata": {
    "id": "c90d0e80"
   },
   "source": [
    "<span style=\"color:blue\"> **(10 pt) (A)** </span> **Describe briefly how the SIFT and SURF algorithms work.**\n",
    "\n",
    "<hr>"
   ]
  },
  {
   "cell_type": "markdown",
   "id": "9014a95b",
   "metadata": {
    "id": "9014a95b"
   },
   "source": [
    "\n",
    "\n",
    "\n"
   ]
  },
  {
   "cell_type": "markdown",
   "id": "c34f350c",
   "metadata": {
    "id": "c34f350c"
   },
   "source": [
    "\n",
    "\n"
   ]
  },
  {
   "cell_type": "markdown",
   "id": "13bce00f",
   "metadata": {
    "id": "13bce00f"
   },
   "source": [
    "<span style=\"color:blue\"> **(10 pt) (B)** </span>  **Display the two images and the corresponding key points identified by SIFT detector. You can use the built-in functions from $opencv$ to get and display the key points.**\n",
    "\n",
    "<hr>"
   ]
  },
  {
   "cell_type": "code",
   "execution_count": null,
   "id": "28bc3022",
   "metadata": {
    "id": "28bc3022"
   },
   "outputs": [],
   "source": [
    "\n",
    "\n"
   ]
  },
  {
   "cell_type": "markdown",
   "id": "e1c89db3",
   "metadata": {
    "id": "e1c89db3"
   },
   "source": [
    "<span style=\"color:blue\"> **(30 pt) (C)** </span> **Match the obtained descriptors in the two images and display the results that draw lines between the matched descriptors from the two images. You can use the built-in functions from $opencv$ to get and display the results for image matching.**\n",
    "\n",
    "<hr>"
   ]
  },
  {
   "cell_type": "code",
   "execution_count": null,
   "id": "139ecf43",
   "metadata": {
    "id": "139ecf43"
   },
   "outputs": [],
   "source": [
    "\n",
    "\n",
    "\n"
   ]
  },
  {
   "cell_type": "markdown",
   "id": "ce2ec400",
   "metadata": {
    "id": "ce2ec400"
   },
   "source": [
    "# <span style=\"color:blue\">Contributions<a class=\"anchor\" id=\"chapter3\"></a></span>"
   ]
  },
  {
   "cell_type": "markdown",
   "id": "8ea834fc",
   "metadata": {
    "id": "8ea834fc"
   },
   "source": [
    "\n",
    "\n",
    "\n"
   ]
  }
 ],
 "metadata": {
  "colab": {
   "provenance": []
  },
  "kernelspec": {
   "display_name": "Python 3",
   "language": "python",
   "name": "python3"
  },
  "language_info": {
   "codemirror_mode": {
    "name": "ipython",
    "version": 3
   },
   "file_extension": ".py",
   "mimetype": "text/x-python",
   "name": "python",
   "nbconvert_exporter": "python",
   "pygments_lexer": "ipython3",
   "version": "3.11.5"
  }
 },
 "nbformat": 4,
 "nbformat_minor": 5
}
