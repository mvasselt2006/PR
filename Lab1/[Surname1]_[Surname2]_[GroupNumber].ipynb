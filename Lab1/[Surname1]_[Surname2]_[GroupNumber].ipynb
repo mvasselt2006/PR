{
 "cells": [
  {
   "attachments": {},
   "cell_type": "markdown",
   "id": "59a4d511",
   "metadata": {},
   "source": [
    "# <p style=\"text-align:center\"> <span style=\"color:blue\">[WMCS011-05] Pattern Recognition (for CS) 2024-2025 </span></p>\n",
    "\n",
    "## <p style=\"text-align:center\"> 1st practical: Iris recognition \\& Image matching using SIFT</p>"
   ]
  },
  {
   "attachments": {},
   "cell_type": "markdown",
   "id": "dade6595",
   "metadata": {},
   "source": [
    "### $$ \\text{Group X} $$\n",
    "### $$ \\text{Student 1}  \\quad \\& \\quad \\text{Student 2}  $$"
   ]
  },
  {
   "attachments": {},
   "cell_type": "markdown",
   "id": "e3d22527",
   "metadata": {},
   "source": [
    "## **Information and instructions**\n",
    "*   <span style=\"color:red\">**DEADLINE**</span>  Tuesday 3 December 2024 **before** 23:59PM. Hand in this file *containing your code and answers added* through Brightspace.\n",
    "*   This is a group assignment (should be done in pairs). \n",
    "*  Insert a Markdown cell (where needed) and add the formulas you used to answer a question, as well as a short description of how you came up with your solution.\n",
    "*   Some exercises ask you to find a specific value or expression or ask you for an interpretation. Insert a Markdown cell and provide your answers briefly.\n",
    "* Make sure to include all the necessary print statements and remove the extra ones that were only used for testing your implementation. \n",
    "*   Please ensure that all your figures are properly labeled with title, axis labels, and legend if you plot multiple curves in one graph.\n",
    "*   Structure your code using comments and separate code cells where necessary, and be sure to indicate which part of your code belongs to which question.\n",
    "*   To test your code, we will run all your code cells from scratch - so make sure all results can be reproduced!\n",
    "* For any questions, you can contact us at [patternrecognition.cs.rug@gmail.com](patternrecognition.cs.rug@gmail.com)."
   ]
  },
  {
   "attachments": {},
   "cell_type": "markdown",
   "id": "8ce09c52",
   "metadata": {},
   "source": [
    "## Table of Contents\n",
    "* [Exercise 1 - Person authentication by binary iris pattern (50pt)](#chapter1)\n",
    "    * [Part 1 - Distribution of authentics and imposters](#section_1_1)\n",
    "    * [Part 2 - Person authentication](#section_1_2)\n",
    "* [Exercise 2 - Image matching using SIFT (50 pt)](#chapter2)\n",
    "* [Contributions](#chapter3)"
   ]
  },
  {
   "cell_type": "code",
   "execution_count": null,
   "id": "927afd94",
   "metadata": {},
   "outputs": [],
   "source": [
    "# Import libraries\n",
    "\n"
   ]
  },
  {
   "attachments": {},
   "cell_type": "markdown",
   "id": "cd7e8030",
   "metadata": {},
   "source": [
    "# <span style=\"color:blue\">Exercise 1 - Person authentication by binary iris pattern (50pt)  <a class=\"anchor\" id=\"chapter1\"></a></span>\n",
    "\n",
    "\n",
    "On Brightspace, you will find the file **lab1-data_Irisrecognition.zip**, which contains the iris codes of different persons. The file named $\\textit{person01.mat}$ to $ \\textit{person20.mat}$ contains a two-dimensional binary array of 20 rows, in which each row is a 30-dimensional binary iris code extracted from an iris image of a person. If you take a closer look at the rows of one such array, you will notice that two rows can differ in only a few positions (bits); If you compare two rows that come from two different files $person[i]$ and $ person[j]$, you will notice that two such iris codes differ in about 15 positions."
   ]
  },
  {
   "attachments": {},
   "cell_type": "markdown",
   "id": "6141883e",
   "metadata": {},
   "source": [
    "## Part 1 - Distribution of authentics and imposters (20pt) <a class=\"anchor\" id=\"section_1_1\"></a></span>\n"
   ]
  },
  {
   "attachments": {},
   "cell_type": "markdown",
   "id": "13fad0bf",
   "metadata": {},
   "source": [
    "Compute two sets S and D of 10000 normalized Hamming Distance (HD) as follows:\n",
    "\n",
    "<ol>\n",
    "<li> <b> For set S: </b> Choose randomly one person and randomly two iris codes (rows) from that person. Compute the normalized HD of the iris codes from these two rows. Repeat this process 10000 times to obtain 10000 such normalized HD values. </li>\n",
    "<br>\n",
    "\n",
    "<li> <b>For set D: </b> Choose randomly two different persons and randomly one row from each of these two persons. Compute the normalized HD of these two iris codes from these two different persons. Repeat this process 10000 times to obtain 10000 such normalized HD values. </li>\n",
    "\n",
    "</ol>"
   ]
  },
  {
   "attachments": {},
   "cell_type": "markdown",
   "id": "4cd68806",
   "metadata": {},
   "source": [
    "<span style=\"color:blue\"> **(10 pt) (A)** </span> **Plot the histograms of Set S and D in one figure with different colors. Make sure to use bins of the same size for the two histograms and to use an appropriate number of bins.**\n",
    "\n",
    "<hr>"
   ]
  },
  {
   "cell_type": "code",
   "execution_count": null,
   "id": "c6cb76e1",
   "metadata": {},
   "outputs": [],
   "source": [
    "# Compute Set S...\n",
    "\n"
   ]
  },
  {
   "cell_type": "code",
   "execution_count": null,
   "id": "996b939f",
   "metadata": {},
   "outputs": [],
   "source": [
    "# Compute set D...\n",
    "\n"
   ]
  },
  {
   "cell_type": "code",
   "execution_count": null,
   "id": "6d12c75d",
   "metadata": {},
   "outputs": [],
   "source": [
    "# Plot histograms of Set S and D...\n",
    "\n"
   ]
  },
  {
   "attachments": {},
   "cell_type": "markdown",
   "id": "a74cdc54",
   "metadata": {},
   "source": [
    "<span style=\"color:blue\">  **(5 pt) (B)** </span> **Compute the mean and the variance of the set S and D and specify their values.**\n",
    "\n",
    "<hr>"
   ]
  },
  {
   "cell_type": "code",
   "execution_count": null,
   "id": "46887817",
   "metadata": {},
   "outputs": [],
   "source": [
    "# Compute mean and variance...\n",
    "\n"
   ]
  },
  {
   "attachments": {},
   "cell_type": "markdown",
   "id": "ed10042b",
   "metadata": {},
   "source": [
    "<span style=\"color:blue\">  **(5 pt) (C)** </span> **Draw the normal distributions (Gaussian functions), that correspond to the means and variances calculated above, to the histograms of Set S and D. Find an appropriate way to scale the normal distribution curves so that they fit well the histograms.**\n",
    "\n",
    "<hr>"
   ]
  },
  {
   "cell_type": "code",
   "execution_count": null,
   "id": "e06d0adb",
   "metadata": {},
   "outputs": [],
   "source": [
    "# Plot the distributions...\n",
    "\n"
   ]
  },
  {
   "attachments": {},
   "cell_type": "markdown",
   "id": "9ff36bfb",
   "metadata": {},
   "source": [
    "## Part 2 - Person authentication (30pt) <a class=\"anchor\" id=\"section_1_2\"></a></span>\n"
   ]
  },
  {
   "attachments": {},
   "cell_type": "markdown",
   "id": "e41f01d6",
   "metadata": {},
   "source": [
    "The distribution associated with the set S is the class-conditional probability density function that we measure a given HD value for two iris codes of the same person. The distribution associated with the set D is the class-conditional probability density function that we measure a given HD value for two iris codes of two different persons.\n",
    "\n",
    "Our Null-hypothesis $\\textit{H0}$ is that two iris patterns are different. We choose a value\n",
    "for the decision criterion $\\textit{d}$ and compare the HD of two iris patterns to d. If $ \\textit{HD > d}$, we consider this as confirmation of our assumption that the two iris codes are different; If $\\textit{HD < d}$, we consider our assumption that the two iris codes are different is not confirmed, i.e., implicitly we accept that they come from the same person."
   ]
  },
  {
   "attachments": {},
   "cell_type": "markdown",
   "id": "28fe7985",
   "metadata": {},
   "source": [
    "<span style=\"color:blue\">  **(5 pt) (A)** </span> **Estimate the value of the decision criterion d for which the probability of accepting an imposter is 0.0005. This situation will occur when the HD between the iris codes of two different persons is smaller than the decision criterion d. You can use the python function $scipy.stats.norm.ppf$ to find such decision criterion.**\n",
    "\n",
    "<hr>"
   ]
  },
  {
   "cell_type": "code",
   "execution_count": null,
   "id": "43c257df",
   "metadata": {},
   "outputs": [],
   "source": [
    "# Estimate the decision criterion d...\n",
    "\n"
   ]
  },
  {
   "attachments": {},
   "cell_type": "markdown",
   "id": "b1dd9092",
   "metadata": {},
   "source": [
    "<span style=\"color:blue\">  **(5 pt) (B)** </span> **For the value of the decision criterion calculated above, determine the probability of rejecting an authentic person. For this purpose, use a normal distribution to model Set S and find the value of the integral in the tail of this distribution for values HD > d. You can use the python function $scipy.stats.norm.cdf$ to compute such a probability.**\n",
    "\n",
    "<hr>"
   ]
  },
  {
   "cell_type": "code",
   "execution_count": null,
   "id": "5251c582",
   "metadata": {},
   "outputs": [],
   "source": [
    "# Determine the probability of...\n",
    "\n"
   ]
  },
  {
   "attachments": {},
   "cell_type": "markdown",
   "id": "5ae240a8",
   "metadata": {},
   "source": [
    "<span style=\"color:blue\">  **(15 pt) (C)** </span> **Consider the iris code given in the file $\\textit{testperson.mat}$. This file contains an iris code with some missing bits. These missing bits have the value 2 instead of 0 or 1. To which of the 20 persons whose iris codes are stored in files $person01.mat$ to $person20.mat$ does this iris code most likely belong to?**\n",
    "\n",
    "<hr>"
   ]
  },
  {
   "cell_type": "code",
   "execution_count": null,
   "id": "4c549a4a",
   "metadata": {},
   "outputs": [],
   "source": [
    "\n",
    "\n"
   ]
  },
  {
   "attachments": {},
   "cell_type": "markdown",
   "id": "46d8b8be",
   "metadata": {},
   "source": [
    "<span style=\"color:blue\"> **(5 pt) (D)** </span> **What is the significance level of your decision? $Hint:$ Excluding the bits with a value of 2, denote by HDt the normalized Hamming distance between the iris code of the test person and the iris code of the person that you identified in the data set. The significance level which corresponds to HDt is defined as the probability that the comparison of the iris code of the test person with the iris code of a different person will result in a HD such that HD ≤ HDt, i.e., the concerned significance level is equal to the integral of the tail of the distribution for HD ≤ HDt. To compute its value, make use of the theoretical expression for the parameters of the normal distribution of the normalized iris code HD for the given number of available (i.e., non-missing) bits.**\n",
    "\n",
    "\n",
    "<hr>"
   ]
  },
  {
   "cell_type": "code",
   "execution_count": null,
   "id": "2e7d49f1",
   "metadata": {},
   "outputs": [],
   "source": [
    "\n",
    "\n"
   ]
  },
  {
   "attachments": {},
   "cell_type": "markdown",
   "id": "c4424bf7",
   "metadata": {},
   "source": [
    "<hr>"
   ]
  },
  {
   "attachments": {},
   "cell_type": "markdown",
   "id": "9e2eb844",
   "metadata": {},
   "source": [
    "# <span style=\"color:blue\">Exercise 2 - Image matching using SIFT (50pt)  <a class=\"anchor\" id=\"chapter2\"></a></span>"
   ]
  },
  {
   "attachments": {},
   "cell_type": "markdown",
   "id": "d1f2dfbc",
   "metadata": {},
   "source": [
    "You are given two images named $a.jpg$ and $b.jpg$ that contain the same scene taken from different views. Use SIFT algorithm to identify key points in both the images and perform image matching based on the obtained descriptors."
   ]
  },
  {
   "attachments": {},
   "cell_type": "markdown",
   "id": "c90d0e80",
   "metadata": {},
   "source": [
    "<span style=\"color:blue\"> **(10 pt) (A)** </span> **Describe briefly how the SIFT and SURF algorithms work.**\n",
    "\n",
    "<hr>"
   ]
  },
  {
   "attachments": {},
   "cell_type": "markdown",
   "id": "9014a95b",
   "metadata": {},
   "source": [
    "\n",
    "\n",
    "\n"
   ]
  },
  {
   "attachments": {},
   "cell_type": "markdown",
   "id": "c34f350c",
   "metadata": {},
   "source": [
    "\n",
    "\n"
   ]
  },
  {
   "attachments": {},
   "cell_type": "markdown",
   "id": "13bce00f",
   "metadata": {},
   "source": [
    "<span style=\"color:blue\"> **(10 pt) (B)** </span>  **Display the two images and the corresponding key points identified by SIFT detector. You can use the built-in functions from $opencv$ to get and display the key points.**\n",
    "\n",
    "<hr>"
   ]
  },
  {
   "cell_type": "code",
   "execution_count": null,
   "id": "28bc3022",
   "metadata": {},
   "outputs": [],
   "source": [
    "\n",
    "\n"
   ]
  },
  {
   "attachments": {},
   "cell_type": "markdown",
   "id": "e1c89db3",
   "metadata": {},
   "source": [
    "<span style=\"color:blue\"> **(30 pt) (C)** </span> **Match the obtained descriptors in the two images and display the results that draw lines between the matched descriptors from the two images. You can use the built-in functions from $opencv$ to get and display the results for image matching.**\n",
    "\n",
    "<hr>"
   ]
  },
  {
   "cell_type": "code",
   "execution_count": null,
   "id": "139ecf43",
   "metadata": {},
   "outputs": [],
   "source": [
    "\n",
    "\n",
    "\n"
   ]
  },
  {
   "attachments": {},
   "cell_type": "markdown",
   "id": "ce2ec400",
   "metadata": {},
   "source": [
    "# <span style=\"color:blue\">Contributions<a class=\"anchor\" id=\"chapter3\"></a></span>"
   ]
  },
  {
   "attachments": {},
   "cell_type": "markdown",
   "id": "8ea834fc",
   "metadata": {},
   "source": [
    "\n",
    "\n",
    "\n"
   ]
  }
 ],
 "metadata": {
  "kernelspec": {
   "display_name": "Python 3 (ipykernel)",
   "language": "python",
   "name": "python3"
  },
  "language_info": {
   "codemirror_mode": {
    "name": "ipython",
    "version": 3
   },
   "file_extension": ".py",
   "mimetype": "text/x-python",
   "name": "python",
   "nbconvert_exporter": "python",
   "pygments_lexer": "ipython3",
   "version": "3.10.6"
  }
 },
 "nbformat": 4,
 "nbformat_minor": 5
}
